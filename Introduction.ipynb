{
 "cells": [
  {
   "cell_type": "code",
   "execution_count": null,
   "id": "ea213bbe",
   "metadata": {},
   "outputs": [],
   "source": [
    "<img src=\"https://cdn1-production-images-kly.akamaized.net/pyB5K8P9Z8BKUmdYEvM4Wkr0kVQ=/1200x675/smart/filters:quality(75):strip_icc():format(jpeg)/kly-media-production/medias/4388828/original/052024300_1681100901-Thumbnail_Liputan6.com-7.jpg\" width=\"300\"></center><br> pada jupiter notebook jenis <b>cell<b>terbagi menjadi\n",
    "<ol>\n",
    "  <li> M (mark down) -> M </li>\n",
    "    <li> Y (code) -> Y </li> \n",
    "    </ol>\n",
    "    <hr>"
   ]
  },
  {
   "cell_type": "markdown",
   "id": "cac1d2b4",
   "metadata": {},
   "source": [
    "Cara menambahkan <b>cell</b> terbagi menjadi 2:\n",
    "  <ul>\n",
    "    <li><strong>A -(above) menambah di atas cell</strong></li>\n",
    "    <li><i>B -(below) menambah di bawah cell</i></li>\n",
    "  </ul>\n",
    "  \n",
    "  <table>\n",
    "    <tr>\n",
    "        <td>perintah</td>\n",
    "         <td>keterangan</td>\n",
    "    </tr>\n",
    "     <tr>\n",
    "        <td>ctrl + enter</td>\n",
    "         <td>run</td>\n",
    "    </tr>\n",
    "     <tr>\n",
    "        <td>shift + enter</td>\n",
    "         <td>run progam deangan fokus di cell berikut</td>\n",
    "    </tr>\n",
    "    </table>"
   ]
  },
  {
   "cell_type": "markdown",
   "id": "4e39c5fe",
   "metadata": {},
   "source": [
    "#coment\n",
    "\n",
    "print(\"piton gampang\")\n",
    "data = \"4\"\n",
    "print(data)\n",
    "data"
   ]
  },
  {
   "cell_type": "code",
   "execution_count": null,
   "id": "5349175b",
   "metadata": {},
   "outputs": [],
   "source": []
  }
 ],
 "metadata": {
  "kernelspec": {
   "display_name": "Python 3 (ipykernel)",
   "language": "python",
   "name": "python3"
  },
  "language_info": {
   "codemirror_mode": {
    "name": "ipython",
    "version": 3
   },
   "file_extension": ".py",
   "mimetype": "text/x-python",
   "name": "python",
   "nbconvert_exporter": "python",
   "pygments_lexer": "ipython3",
   "version": "3.9.12"
  }
 },
 "nbformat": 4,
 "nbformat_minor": 5
}
