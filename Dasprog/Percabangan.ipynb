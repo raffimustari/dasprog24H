{
 "cells": [
  {
   "cell_type": "markdown",
   "id": "5854a90d-e435-44ae-9e31-3bc520e011b1",
   "metadata": {
    "id": "5854a90d-e435-44ae-9e31-3bc520e011b1"
   },
   "source": [
    "Buatlah program yang meminta pengguna memasukkan usia seseorang, lalu tentukan apakah dia <br>\n",
    "anak-anak (0-12 tahun), remaja (13-17 tahun), dewasa (18-59 tahun), atau lansia (60 tahun ke atas)."
   ]
  },
  {
   "cell_type": "code",
   "execution_count": 5,
   "id": "75a2fdcd-1ef1-45e4-9d79-c6a7cb708a18",
   "metadata": {
    "id": "75a2fdcd-1ef1-45e4-9d79-c6a7cb708a18"
   },
   "outputs": [
    {
     "name": "stdin",
     "output_type": "stream",
     "text": [
      "Masukkan usia:  18\n"
     ]
    },
    {
     "name": "stdout",
     "output_type": "stream",
     "text": [
      "Kategori usia: Dewasa\n"
     ]
    }
   ],
   "source": [
    "def tentukan_kategori_usia(usia):\n",
    "    if 0 <= usia <= 12:\n",
    "        return \"Anak-anak\"\n",
    "    elif 13 <= usia <= 17:\n",
    "        return \"Remaja\"\n",
    "    elif 18 <= usia <= 59:\n",
    "        return \"Dewasa\"\n",
    "    elif usia >= 60:\n",
    "        return \"Lansia\"\n",
    "    else:\n",
    "        return \"Usia tidak valid\"\n",
    "\n",
    "\n",
    "try:\n",
    "    usia = int(input(\"Masukkan usia: \"))\n",
    "    kategori = tentukan_kategori_usia(usia)\n",
    "    print(f\"Kategori usia: {kategori}\")\n",
    "except ValueError:\n",
    "    print(\"Harap masukkan angka yang valid.\")\n"
   ]
  },
  {
   "cell_type": "code",
   "execution_count": 8,
   "id": "28f5b0c7-da53-41ec-944b-7a9e1aec2039",
   "metadata": {
    "id": "68c95835-e4ad-4bd0-89ca-168200893cf7"
   },
   "outputs": [
    {
     "name": "stdin",
     "output_type": "stream",
     "text": [
      "Masukkan usia pertama:  12\n",
      "Masukkan usia kedua:  17\n",
      "Masukkan usia ketiga:  5\n"
     ]
    },
    {
     "name": "stdout",
     "output_type": "stream",
     "text": [
      "Total harga yang harus dibayar: Rp 35000\n"
     ]
    }
   ],
   "source": [
    "def harga_tiket(usia):\n",
    "    if 0 <= usia <= 12:\n",
    "        return 10000\n",
    "    elif 13 <= usia <= 17:\n",
    "        return 15000\n",
    "    elif 18 <= usia <= 59:\n",
    "        return 25000\n",
    "    elif usia >= 60:\n",
    "        return 0\n",
    "    else:\n",
    "        return None  # Untuk usia yang tidak valid\n",
    "\n",
    "usia1 = int(input(\"Masukkan usia pertama: \"))\n",
    "usia2 = int(input(\"Masukkan usia kedua: \"))\n",
    "usia3 = int(input(\"Masukkan usia ketiga: \"))\n",
    "\n",
    "total_harga = sum(filter(None, [harga_tiket(usia1), harga_tiket(usia2), harga_tiket(usia3)]))\n",
    "\n",
    "print(f\"Total harga yang harus dibayar: Rp {total_harga}\")"
   ]
  },
  {
   "cell_type": "code",
   "execution_count": null,
   "id": "66ee699f-8355-48e0-939a-dcc73ba4425b",
   "metadata": {
    "id": "66ee699f-8355-48e0-939a-dcc73ba4425b"
   },
   "outputs": [],
   "source": [
    "tiket1 = int(input(\"Isikan Umur Tiket 1:\"))\n",
    "tiket2 = int(input(\"Isikan Umur Tiket 2: \"))\n",
    "tiket3 = int(input(\"Isikan Umur Tiket 3: \"))\n",
    "\n",
    "# add code here ..."
   ]
  },
  {
   "cell_type": "markdown",
   "id": "82eac646-d930-42f5-a253-03f84c32f943",
   "metadata": {
    "id": "82eac646-d930-42f5-a253-03f84c32f943"
   },
   "source": [
    "Sebuah restoran memiliki diskon khusus:\n",
    "Anak-anak (0-12 tahun) diskon 50%\n",
    "Lansia (60 tahun ke atas) diskon 30%\n",
    "Selain itu, tidak ada diskon\n",
    "Buat program untuk menghitung harga yang harus dibayar setelah diskon diberikan."
   ]
  },
  {
   "cell_type": "code",
   "execution_count": 12,
   "id": "feb31fca-fce6-4e5f-a25f-8752e7a0033b",
   "metadata": {
    "id": "feb31fca-fce6-4e5f-a25f-8752e7a0033b"
   },
   "outputs": [
    {
     "name": "stdin",
     "output_type": "stream",
     "text": [
      "Masukkan usia pelanggan:  12\n",
      "Masukkan harga makanan (Rp):  12\n"
     ]
    },
    {
     "name": "stdout",
     "output_type": "stream",
     "text": [
      "Harga setelah diskon: Rp6.00\n"
     ]
    }
   ],
   "source": [
    "\n",
    "umur = int(input(\"Masukkan usia pelanggan: \"))\n",
    "harga_awal = float(input(\"Masukkan harga makanan (Rp): \"))\n",
    "\n",
    "# Menentukan diskon berdasarkan usia\n",
    "if 0 <= umur <= 12:\n",
    "    diskon = 0.50  # diskon 50\n",
    "elif umur >= 60:\n",
    "    diskon = 0.30  # diskon 30\n",
    "else:\n",
    "    diskon = 0.00  # diskon 0\n",
    "\n",
    "harga_akhir = harga_awal - (harga_awal * diskon)\n",
    "\n",
    "\n",
    "print(f\"Harga setelah diskon: Rp{harga_akhir:.2f}\")\n"
   ]
  },
  {
   "cell_type": "markdown",
   "id": "aee8bab3-9bf1-4732-97e1-7abb32ce7184",
   "metadata": {
    "id": "aee8bab3-9bf1-4732-97e1-7abb32ce7184"
   },
   "source": [
    "Program beasiswa:\n",
    "<ol>\n",
    "<li>Jika nilai rapor ≥ 90 dan penghasilan orang tua < Rp 5.000.000 → Beasiswa Penuh</li>\n",
    "<li>Jika nilai rapor ≥ 85 dan penghasilan orang tua < Rp 8.000.000 → Beasiswa 50%</li>\n",
    "<li>Jika tidak memenuhi syarat di atas → Tidak mendapatkan beasiswa</li>\n",
    "</ol>"
   ]
  },
  {
   "cell_type": "code",
   "execution_count": 10,
   "id": "55a9ec4f-531b-4326-bca3-e0d19b4be47d",
   "metadata": {
    "id": "55a9ec4f-531b-4326-bca3-e0d19b4be47d"
   },
   "outputs": [
    {
     "name": "stdin",
     "output_type": "stream",
     "text": [
      "Masukkan nilai rapor:  90\n",
      "Masukkan penghasilan orang tua (Rp):  800000\n"
     ]
    },
    {
     "name": "stdout",
     "output_type": "stream",
     "text": [
      "Hasil: Beasiswa Penuh\n"
     ]
    }
   ],
   "source": [
    "\n",
    "nilai_rapor = float(input(\"Masukkan nilai rapor: \"))\n",
    "penghasilan_orangtua = float(input(\"Masukkan penghasilan orang tua (Rp): \"))\n",
    "\n",
    "\n",
    "if nilai_rapor >= 90 and penghasilan_orangtua < 5000000:\n",
    "    beasiswa = \"Beasiswa Penuh\"\n",
    "elif nilai_rapor >= 85 and penghasilan_orangtua < 8000000:\n",
    "    beasiswa = \"Beasiswa 50%\"\n",
    "else:\n",
    "    beasiswa = \"Tidak mendapatkan beasiswa\"\n",
    "print(f\"Hasil: {beasiswa}\")"
   ]
  },
  {
   "cell_type": "markdown",
   "id": "57ea9062-e1af-4650-8eab-a47a01a9d04f",
   "metadata": {
    "id": "57ea9062-e1af-4650-8eab-a47a01a9d04f"
   },
   "source": [
    "Suatu aplikasi streaming memiliki batasan usia:\n",
    "<ol>\n",
    "<li>Film Semua Umur: Bisa ditonton oleh siapa saja</li>\n",
    "<li>Film Remaja: Hanya untuk usia ≥ 13 tahun</li>\n",
    "<li>Film Dewasa: Hanya untuk usia ≥ 18 tahun</li>\n",
    "</ol>\n",
    "Buat program yang meminta input usia dan kategori film, lalu tentukan apakah seseorang boleh menonton film tersebut atau tidak."
   ]
  },
  {
   "cell_type": "code",
   "execution_count": 22,
   "id": "2c00f464-3390-4c94-9ec2-4b63c55b871b",
   "metadata": {
    "id": "2c00f464-3390-4c94-9ec2-4b63c55b871b"
   },
   "outputs": [
    {
     "name": "stdin",
     "output_type": "stream",
     "text": [
      "Masukkan usia Anda:  19\n",
      "Masukkan kategori film (Semua Umur/Remaja/Dewasa):  dewasa\n"
     ]
    },
    {
     "name": "stdout",
     "output_type": "stream",
     "text": [
      "Anda boleh menonton film ini.\n"
     ]
    }
   ],
   "source": [
    "\n",
    "usia = int(input(\"Masukkan usia Anda: \"))\n",
    "kategori_film = input(\"Masukkan kategori film (Semua Umur/Remaja/Dewasa): \").strip().lower()\n",
    "\n",
    "if kategori_film == \"semua umur\":\n",
    "    boleh_menonton = True\n",
    "elif kategori_film == \"remaja\" and usia >= 13:\n",
    "    boleh_menonton = True\n",
    "elif kategori_film == \"dewasa\" and usia >= 18:\n",
    "    boleh_menonton = True\n",
    "else:\n",
    "    boleh_menonton = False\n",
    "\n",
    "if boleh_menonton:\n",
    "    print(\"Anda boleh menonton film ini.\")\n",
    "else:\n",
    "    print(\"Maaf, Anda tidak diperbolehkan menonton film ini.\")\n"
   ]
  },
  {
   "cell_type": "markdown",
   "id": "7b87c04c-85f0-4dc1-a14a-f67d8b2c4e6a",
   "metadata": {
    "id": "7b87c04c-85f0-4dc1-a14a-f67d8b2c4e6a"
   },
   "source": [
    "Sebuah toko memberikan diskon berdasarkan jumlah pembelian:\n",
    "<ol>\n",
    "<li>Jika total belanja ≥ Rp 500.000 → Diskon 20%</li>\n",
    "<li>Jika total belanja ≥ Rp 250.000 → Diskon 10%</li>\n",
    "<li>Jika total belanja < Rp 250.000 → Tidak ada diskon</li>\n",
    "</ol>\n",
    "Hitung harga akhir setelah diskon."
   ]
  },
  {
   "cell_type": "code",
   "execution_count": null,
   "id": "966923a0-c87b-4559-8fc1-3090d448ad4a",
   "metadata": {
    "id": "966923a0-c87b-4559-8fc1-3090d448ad4a"
   },
   "outputs": [],
   "source": [
    "# add code here"
   ]
  },
  {
   "cell_type": "markdown",
   "id": "88e22629-48cc-4917-86e7-2bf4df863182",
   "metadata": {
    "id": "88e22629-48cc-4917-86e7-2bf4df863182"
   },
   "source": [
    "Program parkir:\n",
    "<ol>\n",
    "<li>Mobil: Rp 5.000 per jam</li>\n",
    "<li>Motor: Rp 2.000 per jam</li>\n",
    "<li>Jika parkir lebih dari 5 jam, ada biaya tambahan Rp 10.000</li>\n",
    "</ol>\n",
    "Hitung total biaya parkir berdasarkan jenis kendaraan dan durasi parkir."
   ]
  },
  {
   "cell_type": "code",
   "execution_count": null,
   "id": "b8f7b918-70a1-4a88-945f-406c4aafbec7",
   "metadata": {
    "id": "b8f7b918-70a1-4a88-945f-406c4aafbec7"
   },
   "outputs": [],
   "source": [
    "# add code here"
   ]
  },
  {
   "cell_type": "markdown",
   "id": "2db1d34c-3f80-4f8c-aaf2-910c38c05414",
   "metadata": {
    "id": "2db1d34c-3f80-4f8c-aaf2-910c38c05414"
   },
   "source": [
    "Aplikasi transportasi online memiliki tarif sebagai berikut:\n",
    "<ol>\n",
    "<li>Jika jarak ≤ 5 km → Rp 5.000/km</li>\n",
    "<li>Jika jarak 6-10 km → Rp 4.000/km</li>\n",
    "<li>Jika jarak > 10 km → Rp 3.000/km</li>\n",
    "</ol>\n",
    "Hitung tarif perjalanan berdasarkan jarak yang dimasukkan pengguna.\n"
   ]
  },
  {
   "cell_type": "code",
   "execution_count": 24,
   "id": "5a5b719e-76f6-4f45-a8e4-07853113ce9e",
   "metadata": {
    "id": "5a5b719e-76f6-4f45-a8e4-07853113ce9e"
   },
   "outputs": [
    {
     "name": "stdin",
     "output_type": "stream",
     "text": [
      "Masukkan jarak perjalanan (dalam km):  5 \n"
     ]
    },
    {
     "name": "stdout",
     "output_type": "stream",
     "text": [
      "Tarif perjalanan untuk jarak 5.0 km adalah: Rp 25000.0\n"
     ]
    }
   ],
   "source": [
    "# add code here\n",
    "jarak = float(input(\"Masukkan jarak perjalanan (dalam km): \"))\n",
    "\n",
    "if jarak <= 5:\n",
    "    tarif = jarak * 5000\n",
    "elif jarak <= 10:\n",
    "    tarif = jarak * 4000\n",
    "else:\n",
    "    tarif = jarak * 3000\n",
    "\n",
    "print(f\"Tarif perjalanan untuk jarak {jarak} km adalah: Rp {tarif}\")\n"
   ]
  },
  {
   "cell_type": "markdown",
   "id": "d1cf7b61-e309-40ec-b1fd-4bc56550a10d",
   "metadata": {
    "id": "d1cf7b61-e309-40ec-b1fd-4bc56550a10d"
   },
   "source": [
    "Buatlah sebuah sistem penerimaan calon programmer yang akan menerima dua nilai ( nilai coding dan nilai interview). Untuk penilaian test coding skala penilaian yang diberikan dimulai dari 0 hingga 100 dengan sistem penilaian:\n",
    "<ol>\n",
    "<li>ketika seseorang mendapatkan nilai lebih dari 80 maka peserta tersebut akan mendapatkan hasil tes LOLOS</li>\n",
    "<li>ketika sesorang mendapatkan nilai diantara 60 hingga 80 maka peserta tersebut mendapatkan hasil tes DIPERTIMBANGKAN</li>\n",
    "<li>ketika seseorang mendapatkan nilai dibawah 60 maka peserta tersebut mendapatkan hasil tes GAGAL.</li>\n",
    "</ol>\n",
    "\n",
    "Sedangkan untuk penilaian interview adalah\n",
    "<ol>\n",
    "<li>ketika nilai yang diberikan kepada seseorang tersebut adalah \"A\" atau \"B\" maka peserta tersebut dianggap LOLOS interview</li>\n",
    "\n",
    "<li>selain kedua nilai tersebut maka peserta dianggap GAGAL tes interview.</li>\n",
    "</ol>\n",
    "\n",
    "Ketika calon programmer mendapatkan nilai coding LOLOS atau DIPERTIMBANGKAN dan juga LOLOS test interview maka tampilkanlah pesan \"Selamat Kamu Berhasil Menjadi Calon Programmer\". Jika tidak maka tampilkanlah pesan \"Maaf Kamu Belum Berhasil Menjadi Calon Programmer\""
   ]
  },
  {
   "cell_type": "code",
   "execution_count": 28,
   "id": "7aeb0f89-e957-4c0d-a29c-139fc269e1c0",
   "metadata": {
    "id": "7aeb0f89-e957-4c0d-a29c-139fc269e1c0"
   },
   "outputs": [
    {
     "name": "stdin",
     "output_type": "stream",
     "text": [
      "Masukkan nilai coding (0-100):  60\n",
      "Masukkan nilai interview (A/B/G):  a\n"
     ]
    },
    {
     "name": "stdout",
     "output_type": "stream",
     "text": [
      "Selamat Kamu Berhasil Menjadi Calon Programmer\n"
     ]
    }
   ],
   "source": [
    "# add code here# Input nilai coding (0-100)\n",
    "nilai_coding = float(input(\"Masukkan nilai coding (0-100): \"))\n",
    "\n",
    "# Input nilai interview (A/B)\n",
    "nilai_interview = input(\"Masukkan nilai interview (A/B): \").upper()\n",
    "\n",
    "\n",
    "if nilai_coding > 80:\n",
    "    lolos_coding = True\n",
    "elif 60 <= nilai_coding <= 80:\n",
    "    lolos_coding = True\n",
    "else:\n",
    "    lolos_coding = False\n",
    "\n",
    "\n",
    "lolos_interview = nilai_interview in [\"A\", \"B\"]\n",
    "\n",
    "# Kondisi kelulusan\n",
    "if lolos_coding and lolos_interview:\n",
    "    print(\"Selamat Kamu Berhasil Menjadi Calon Programmer\")\n",
    "else:\n",
    "    print(\"Maaf Kamu Belum Berhasil Menjadi Calon Programmer\")\n"
   ]
  },
  {
   "cell_type": "markdown",
   "id": "364647af-075b-4bc0-8c83-4c816415ff74",
   "metadata": {
    "id": "364647af-075b-4bc0-8c83-4c816415ff74"
   },
   "source": [
    "Sebuah klub sepak bola “PERSEGI FC” mempunyai aturan dalam memberikan nomor punggung bagi para pemainnya. Para pemain diperbolehkan mempunyai posisi lebih dari 1. Berikut adalah beberapa\n",
    "aturannya:\n",
    "<ol>\n",
    "<li>Untuk nomor punggung genap, digunakan untuk posisi “target attacker”</li>\n",
    "<li>Untuk nomor punggung genap antara 50 – 100, digunakan untuk pemain yang “berhak dipilih menjadi capten team”</li>\n",
    "<li>Untuk nomor punggung ganjil, digunakan untuk posisi “defender”</li>\n",
    "<li>Untuk nomor punggung ganjil lebih dari 90, digunakan untuk posisi “Playmaker”</li>\n",
    "<li>Untuk nomor punggung ganjil kelipatan dari 3 dan 5, digunakan untuk posisi “keeper”</li>\n",
    "</ol>\n",
    "Buatlah program untuk melakukan pengecekan sebuah nomor punggung dapat berfungsi sebagai posisi apa saja."
   ]
  },
  {
   "cell_type": "code",
   "execution_count": null,
   "id": "2d1d5589-126b-44e3-9d9e-1bed865ff65c",
   "metadata": {
    "id": "2d1d5589-126b-44e3-9d9e-1bed865ff65c"
   },
   "outputs": [],
   "source": [
    "# add code here\n",
    "# Ini nomor punggung nya\n",
    "nomor_punggung = int(input(\"Masukkan nomor punggung pemain: \"))\n",
    "\n",
    "if nomor_punggung % 2 == 0:  # Nomor punggung yang genap\n",
    "    posisi = \"Target Attacker\"\n",
    "    if 50 <= nomor_punggung <= 100:\n",
    "        posisi += \" (Berhak dipilih menjadi Captain Team)\"\n",
    "else:  # Nomor punggung yang ganjil\n",
    "    if nomor_punggung > 90:\n",
    "        posisi = \"Playmaker\"\n",
    "    elif nomor_punggung % 3 == 0 and nomor_punggung % 5 == 0:\n",
    "        posisi = \"Keeper\"\n",
    "    else:\n",
    "        posisi = \"Defender\"\n",
    "\n",
    "# Tampilkan hasil posisi\n",
    "print(f\"Nomor punggung {nomor_punggung} berfungsi sebagai posisi: {posisi}\")\n",
    "\n"
   ]
  }
 ],
 "metadata": {
  "colab": {
   "provenance": []
  },
  "kernelspec": {
   "display_name": "Python [conda env:base] *",
   "language": "python",
   "name": "conda-base-py"
  },
  "language_info": {
   "codemirror_mode": {
    "name": "ipython",
    "version": 3
   },
   "file_extension": ".py",
   "mimetype": "text/x-python",
   "name": "python",
   "nbconvert_exporter": "python",
   "pygments_lexer": "ipython3",
   "version": "3.12.7"
  }
 },
 "nbformat": 4,
 "nbformat_minor": 5
}
