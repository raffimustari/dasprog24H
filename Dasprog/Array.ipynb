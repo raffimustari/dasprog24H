{
 "cells": [
  {
   "cell_type": "code",
   "execution_count": null,
   "id": "a1eb8a85",
   "metadata": {},
   "outputs": [],
   "source": []
  },
  {
   "cell_type": "code",
   "execution_count": 31,
   "id": "5bc1bd63",
   "metadata": {},
   "outputs": [],
   "source": [
    "import numpy as np\n",
    "\n",
    "\n",
    "mat1D = np.array([1, 2, 3, 4, 5, 6, 7, 8,10,11,12])\n",
    "mat2D = np.array([[1, 2, 3], [4, 5, 6], [7, 8, 9],[10,11,12]])\n",
    "mat2D10 = mat2D * 10"
   ]
  },
  {
   "cell_type": "code",
   "execution_count": 16,
   "id": "992a61fb",
   "metadata": {},
   "outputs": [
    {
     "name": "stdout",
     "output_type": "stream",
     "text": [
      "Matriks 1d:\n",
      "[1 2 3 4 5 6 7 8]\n",
      "Matriks 1d ke 7:\n",
      "8\n",
      "Matriks 1d x 10:\n",
      "[10 20 30 40 50 60 70 80]\n",
      "Matriks 1d ke 7:\n",
      "40\n"
     ]
    }
   ],
   "source": [
    "print(f\"Matriks 1d:\\n{mat1D}\")\n",
    "print(f\"Matriks 1d ke 7:\\n{mat1D[7]}\")\n",
    "print(f\"Matriks 1d x 10:\\n{mat1D * 10}\")\n",
    "print(f\"Matriks 1d ke 7:\\n{mat1D[7] * 5}\")\n"
   ]
  },
  {
   "cell_type": "code",
   "execution_count": 28,
   "id": "51620baa",
   "metadata": {},
   "outputs": [
    {
     "name": "stdout",
     "output_type": "stream",
     "text": [
      "Matriks 2d:\n",
      "[[1 2 3]\n",
      " [4 5 6]\n",
      " [7 8 9]]\n",
      "Matriks 2d x 10:\n",
      "[[10 20 30]\n",
      " [40 50 60]\n",
      " [70 80 90]]\n",
      "Matriks 1d ke 7:\n",
      "[1 2 3]\n",
      "30\n"
     ]
    }
   ],
   "source": [
    "print(f\"Matriks 2d:\\n{mat2D}\")\n",
    "print(f\"Matriks 2d x 10:\\n{mat2D * 10}\")\n",
    "print(f\"Matriks 1d ke 7:\\n{mat2D[0]}\")\n",
    "print(mat2D10[0][2])"
   ]
  },
  {
   "cell_type": "code",
   "execution_count": 30,
   "id": "0411d66e",
   "metadata": {},
   "outputs": [
    {
     "name": "stdout",
     "output_type": "stream",
     "text": [
      "(8,)\n",
      "(3, 3)\n"
     ]
    }
   ],
   "source": [
    "print(mat1D.shape)\n",
    "print(mat2D.shape)"
   ]
  },
  {
   "cell_type": "code",
   "execution_count": 33,
   "id": "dff0c2c8",
   "metadata": {},
   "outputs": [
    {
     "name": "stdout",
     "output_type": "stream",
     "text": [
      "11\n",
      "12\n"
     ]
    }
   ],
   "source": [
    "print(mat1D.size)\n",
    "print(mat2D.size)"
   ]
  },
  {
   "cell_type": "code",
   "execution_count": 51,
   "id": "6749a8eb",
   "metadata": {},
   "outputs": [
    {
     "name": "stdout",
     "output_type": "stream",
     "text": [
      "[[7 7 7 7]\n",
      " [7 7 7 7]\n",
      " [7 7 7 7]\n",
      " [7 7 7 7]]\n",
      "[[1. 1. 1. ... 1. 1. 1.]\n",
      " [1. 1. 1. ... 1. 1. 1.]\n",
      " [1. 1. 1. ... 1. 1. 1.]\n",
      " ...\n",
      " [1. 1. 1. ... 1. 1. 1.]\n",
      " [1. 1. 1. ... 1. 1. 1.]\n",
      " [1. 1. 1. ... 1. 1. 1.]]\n",
      "[[0. 0. 0.]\n",
      " [0. 0. 0.]\n",
      " [0. 0. 0.]]\n",
      "[[1. 0. 0. 0.]\n",
      " [0. 1. 0. 0.]\n",
      " [0. 0. 1. 0.]\n",
      " [0. 0. 0. 1.]]\n",
      "[[0.55592746 0.6539074  0.03495886 0.24086018 0.87174144]\n",
      " [0.29998138 0.03605231 0.8877295  0.74963913 0.89391164]\n",
      " [0.08993124 0.30329833 0.20257077 0.58526044 0.38356313]\n",
      " [0.96018574 0.366452   0.09618809 0.2212526  0.13203915]\n",
      " [0.4658618  0.31740143 0.11338904 0.89096956 0.17531272]]\n",
      "[0.23439631 0.03675032]\n",
      "[71 96 63 22 74]\n"
     ]
    }
   ],
   "source": [
    "mZero = np.zeros((3,3))\n",
    "mone = np.ones((3000,3000))\n",
    "mfull = np.full((4, 4), 7)  \n",
    "midentity = np.eye((4))\n",
    "mrandow = np.random.rand(5,5)\n",
    "mrandow2 = np.random.rand(2)\n",
    "\n",
    "randow3 = np.random.randint(10, 100, size=5)\n",
    "\n",
    "print(mfull)\n",
    "print(mone)\n",
    "print(mZero)\n",
    "print(midentity)\n",
    "print(mrandow)\n",
    "print(mrandow2)\n",
    "print(randow3)"
   ]
  },
  {
   "cell_type": "code",
   "execution_count": 56,
   "id": "61c59460",
   "metadata": {},
   "outputs": [
    {
     "name": "stdout",
     "output_type": "stream",
     "text": [
      "[[1 2 3]\n",
      " [4 5 6]\n",
      " [7 8 9]]\n",
      "[[1]\n",
      " [2]\n",
      " [3]\n",
      " [4]\n",
      " [5]\n",
      " [6]\n",
      " [7]\n",
      " [8]\n",
      " [9]]\n",
      "[1 2 3 4 5 6 7 8 9]\n"
     ]
    }
   ],
   "source": [
    "data= np.array([[1, 2, 3], [4, 5, 6], [7, 8, 9]])\n",
    "ms = data.reshape((9,1))\n",
    "mf  = data.flatten()\n",
    "\n",
    "print(data)\n",
    "print(ms)\n",
    "print(mf)"
   ]
  },
  {
   "cell_type": "code",
   "execution_count": 63,
   "id": "3e9f1026",
   "metadata": {},
   "outputs": [
    {
     "name": "stdout",
     "output_type": "stream",
     "text": [
      "69\n",
      "[ 3  7 10 13]\n",
      "2\n",
      "9\n",
      "5.75\n",
      "23\n",
      "2.5860201081971503\n"
     ]
    }
   ],
   "source": [
    "x = np.array([1,2,3,4])\n",
    "y = np.array ([2,5,7,9])\n",
    "\n",
    "r1 = np.dot(x,y)\n",
    "r2 = np.add(x,y)\n",
    "\n",
    "print(r1)\n",
    "print(r2)\n",
    "print(y.min())\n",
    "print(y.max())\n",
    "print(y.mean())\n",
    "print(y.sum())\n",
    "print(y.std())\n"
   ]
  },
  {
   "cell_type": "code",
   "execution_count": 71,
   "id": "b1fad759",
   "metadata": {},
   "outputs": [
    {
     "name": "stdout",
     "output_type": "stream",
     "text": [
      "[100  90  80  60  70  90]\n",
      "6\n",
      "1\n"
     ]
    }
   ],
   "source": [
    "nilai = np.array ([100,90,80,50,60,70,90])\n",
    "\n",
    "jmllulus = nilai[nilai>50]\n",
    "\n",
    "print(jmllulus)\n",
    "print(jmllulus.size)\n",
    "print(nilai.size-jmllulus.size)\n",
    "\n"
   ]
  },
  {
   "cell_type": "code",
   "execution_count": null,
   "id": "623160f9",
   "metadata": {},
   "outputs": [],
   "source": [
    "#buatlah 1000 data costumer cc, yang akan di gunakan untuk produksi atau klafikasi yaitu usia, gender transaksi pembayaran\n",
    " "
   ]
  },
  {
   "cell_type": "code",
   "execution_count": 97,
   "id": "899b0383",
   "metadata": {},
   "outputs": [
    {
     "name": "stdout",
     "output_type": "stream",
     "text": [
      "     usia gender pembayaran  transaksi\n",
      "0      59      P     sedang         21\n",
      "1      41      P     sedang         26\n",
      "2      33      P       baik          0\n",
      "3      27      P     sedang         35\n",
      "4      56      P       baik          5\n",
      "..    ...    ...        ...        ...\n",
      "995    23      P      buruk         41\n",
      "996    59      L     sedang         39\n",
      "997    59      L       baik          1\n",
      "998    15      L     sedang         27\n",
      "999    36      L       baik         26\n",
      "\n",
      "[1000 rows x 4 columns]\n",
      "<class 'pandas.core.frame.DataFrame'>\n",
      "RangeIndex: 1000 entries, 0 to 999\n",
      "Data columns (total 4 columns):\n",
      " #   Column      Non-Null Count  Dtype \n",
      "---  ------      --------------  ----- \n",
      " 0   usia        1000 non-null   int32 \n",
      " 1   gender      1000 non-null   object\n",
      " 2   pembayaran  1000 non-null   object\n",
      " 3   transaksi   1000 non-null   int32 \n",
      "dtypes: int32(2), object(2)\n",
      "memory usage: 23.6+ KB\n",
      "None\n",
      "   usia gender pembayaran  transaksi\n",
      "0    59      P     sedang         21\n",
      "1    41      P     sedang         26\n",
      "2    33      P       baik          0\n",
      "3    27      P     sedang         35\n",
      "4    56      P       baik          5\n",
      "60\n",
      "12\n",
      "485.0\n",
      "485\n"
     ]
    }
   ],
   "source": [
    "import numpy as np\n",
    "import pandas as pd\n",
    "\n",
    "jmldata = 1000\n",
    "gender = np.random.choice([\"L\", \"P\"], size=jmldata)\n",
    "transaksi = np.random.randint(0, 51, size=jmldata)\n",
    "bayar = np.random.choice([\"buruk\", \"sedang\", \"baik\"], size=jmldata)\n",
    "usia = np.random.randint(12, 61, size=jmldata)\n",
    "\n",
    "df = pd.DataFrame({\n",
    "    'usia': usia,\n",
    "    'gender': gender,\n",
    "    'pembayaran': bayar,\n",
    "    'transaksi': transaksi\n",
    "})\n",
    "\n",
    "print(df)\n",
    "print(df.info())\n",
    "print(df.head())\n",
    "df.to_csv(\"players.csv\")\n",
    "\n",
    "print(df['usia'].max())\n",
    "print(df['usia'].min())\n",
    "jmLL = df[df['gender']=='L']\n",
    "print(jmLL.size/4)\n",
    "print(jmLL['gender'].size)"
   ]
  },
  {
   "cell_type": "code",
   "execution_count": null,
   "id": "7fdb4d33",
   "metadata": {},
   "outputs": [],
   "source": []
  },
  {
   "cell_type": "code",
   "execution_count": null,
   "id": "b67b8276",
   "metadata": {},
   "outputs": [],
   "source": []
  },
  {
   "cell_type": "code",
   "execution_count": null,
   "id": "20ddc020",
   "metadata": {},
   "outputs": [],
   "source": []
  }
 ],
 "metadata": {
  "kernelspec": {
   "display_name": "Python 3 (ipykernel)",
   "language": "python",
   "name": "python3"
  },
  "language_info": {
   "codemirror_mode": {
    "name": "ipython",
    "version": 3
   },
   "file_extension": ".py",
   "mimetype": "text/x-python",
   "name": "python",
   "nbconvert_exporter": "python",
   "pygments_lexer": "ipython3",
   "version": "3.9.12"
  }
 },
 "nbformat": 4,
 "nbformat_minor": 5
}
