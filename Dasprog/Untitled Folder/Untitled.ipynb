{
 "cells": [
  {
   "cell_type": "code",
   "execution_count": 8,
   "id": "464d1933",
   "metadata": {},
   "outputs": [
    {
     "name": "stdout",
     "output_type": "stream",
     "text": [
      "isikan nama anda raffi\n",
      "Selamat datang raffi\n",
      "urutan angka\n",
      "123a-b-c\n"
     ]
    }
   ],
   "source": [
    "nama = input(\"isikan nama anda \")\n",
    "\n",
    "print(\"Selamat datang\",nama)\n",
    "print(\"urutan angka\")\n",
    "print(\"1\", end='')\n",
    "print(\"2\", end='')\n",
    "print(\"3\", end='')\n",
    "print(\"a\",\"b\",\"c\",sep='-')\n"
   ]
  },
  {
   "cell_type": "code",
   "execution_count": 26,
   "id": "b1508f0c",
   "metadata": {},
   "outputs": [
    {
     "name": "stdout",
     "output_type": "stream",
     "text": [
      "isikan bilangan 1: 3\n",
      "isikan bilangan 2: 2\n",
      "hasil penjumlahan 3 + 2 = 5\n",
      "hasil penjumlahan 3 + 2 = 5\n",
      "hasil penjumlahan 3 - 2 = 1\n",
      "hasil penjumlahan 3 - 2 = 1\n",
      "hasil penjumlahan 3 x 2 = 6\n",
      "hasil penjumlahan 3 x 2 = 6\n",
      "hasil penjumlahan 3 / 2 = 1.5\n",
      "hasil penjumlahan 3 / 2 = 1.5\n",
      "hasil penjumlahan 3 % 2 = 1\n",
      "hasil penjumlahan 3 % 2 = 1\n",
      "hasil penjumlahan 3 ^ 2 = 1\n",
      "hasil penjumlahan 3 ^ 2 = 1\n",
      "hasil penjumlahan 3 // 2 = 1\n",
      "hasil penjumlahan 3 // 2 = 1\n",
      "hasil penjumlahan 3 ** 2 = 9\n",
      "hasil penjumlahan 3 ** 2 = 9\n"
     ]
    }
   ],
   "source": [
    "val1 = int(input(\"isikan bilangan 1: \"))  \n",
    "val2 = int(input(\"isikan bilangan 2: \"))  \n",
    "\n",
    "print(\"hasil penjumlahan\", val1, \"+\", val2, \"=\", val1 + val2)\n",
    "print(\"hasil penjumlahan {} + {} = {}\".format(val1, val2, val1 + val2))\n",
    "print(\"hasil penjumlahan\", val1, \"-\", val2, \"=\", val1 - val2)\n",
    "print(\"hasil penjumlahan {} - {} = {}\".format(val1, val2, val1 - val2))\n",
    "print(\"hasil penjumlahan\", val1, \"x\", val2, \"=\", val1 * val2)\n",
    "print(\"hasil penjumlahan {} x {} = {}\".format(val1, val2, val1 * val2))\n",
    "print(\"hasil penjumlahan\", val1, \"/\", val2, \"=\", val1 / val2)\n",
    "print(\"hasil penjumlahan {} / {} = {}\".format(val1, val2, val1 / val2))\n",
    "print(\"hasil penjumlahan\", val1, \"%\", val2, \"=\", val1 % val2)\n",
    "print(\"hasil penjumlahan {} % {} = {}\".format(val1, val2, val1 % val2))\n",
    "print(\"hasil penjumlahan\", val1, \"^\", val2, \"=\", val1 ^ val2)\n",
    "print(\"hasil penjumlahan {} ^ {} = {}\".format(val1, val2, val1 ^ val2))\n",
    "print(\"hasil penjumlahan\", val1, \"//\", val2, \"=\", val1 // val2)\n",
    "print(\"hasil penjumlahan {} // {} = {}\".format(val1, val2, val1 // val2))\n",
    "print(\"hasil penjumlahan\", val1, \"**\", val2, \"=\", val1 ** val2)\n",
    "print(\"hasil penjumlahan {} ** {} = {}\".format(val1, val2, val1 ** val2))\n"
   ]
  },
  {
   "cell_type": "code",
   "execution_count": 19,
   "id": "720f97e7",
   "metadata": {},
   "outputs": [
    {
     "name": "stdout",
     "output_type": "stream",
     "text": [
      "isikan nama awal raffi\n",
      "isikan nama tengah ganteng\n",
      "isikan nama akhir sekali\n",
      "nama lengkap ; raffi ganteng sekali\n",
      "nama lengkap ; sekali ganteng raffi\n",
      "nama lengkap ; sekali raffi ganteng\n"
     ]
    }
   ],
   "source": [
    "fname = input(\"isikan nama awal \")\n",
    "mname = input(\"isikan nama tengah \")\n",
    "lname = input(\"isikan nama akhir \")\n",
    "print (\"nama lengkap ; {} {} {}\".format(fname,mname,lname))\n",
    "print (\"nama lengkap ; {2} {1} {0}\".format(fname,mname,lname))\n",
    "\n",
    "print (\"nama lengkap ; {c} {a} {b}\".format(a=fname,b=mname,c=lname))\n",
    "\n"
   ]
  },
  {
   "cell_type": "code",
   "execution_count": 23,
   "id": "73c3f1c1",
   "metadata": {},
   "outputs": [
    {
     "name": "stdout",
     "output_type": "stream",
     "text": [
      "isikan kata-kata raffi\n",
      "karakter ke 2 a\n",
      "karekater 3 sampai abis ffi\n",
      "karakter 2 sampai 4 af\n",
      "karakter terakhir i\n",
      "karakter terbalik iffar\n"
     ]
    }
   ],
   "source": [
    "k = input(\"isikan kata-kata \")\n",
    "print(\"karakter ke 2\",k[1])\n",
    "print(\"karekater 3 sampai abis\",k[2:])\n",
    "print(\"karakter 2 sampai 4\",k[1:3])\n",
    "print(\"karakter terakhir\",k[-1])\n",
    "print(\"karakter terbalik\",k[::-1])"
   ]
  },
  {
   "cell_type": "code",
   "execution_count": 32,
   "id": "ec9118b2",
   "metadata": {},
   "outputs": [
    {
     "name": "stdout",
     "output_type": "stream",
     "text": [
      "nama awal  raffi\n",
      "nama tengah  cakap\n",
      "nama akhir  ganteng\n",
      "0\n"
     ]
    }
   ],
   "source": [
    "namal = \"raffi cakap ganteng\"\n",
    "nama = namal.split(' ')\n",
    "print(\"nama awal \", nama[0])\n",
    "print(\"nama tengah \", nama[1])\n",
    "print(\"nama akhir \", nama[2])\n",
    "\n",
    "\n",
    "np = \"rtx5050\"\n",
    "c = np.find(\"r\")\n",
    "print(c)\n",
    "\n",
    "#buatlah progam yang memvalidasi  apakah email vaid atau tidak \n",
    "#titik harus ada di kanan kalimat gmail\n",
    "#->raffi2gmail.com valid\n",
    "#yuda.gmail.com ->valid"
   ]
  },
  {
   "cell_type": "code",
   "execution_count": 35,
   "id": "7cd4834d",
   "metadata": {},
   "outputs": [
    {
     "name": "stdout",
     "output_type": "stream",
     "text": [
      "Masukkan email anda: ra.\n",
      "Email anda adalah: Invalid\n"
     ]
    }
   ],
   "source": [
    "e = input(\"Masukkan email anda: \")\n",
    "f = \"palid\" if \"@\" in e and \".\" in e.split(\"@\")[1] else \"unpalid\"\n",
    "print(f\"Email anda adalah: {f}\")\n"
   ]
  },
  {
   "cell_type": "code",
   "execution_count": null,
   "id": "945832d7",
   "metadata": {},
   "outputs": [
    {
     "name": "stdout",
     "output_type": "stream",
     "text": [
      "nilai acak :0.5559755165134331 \n",
      "nilai acak 1-100 :57\n",
      "sekarang bulan:feb\n",
      "berapa hasil 94 + 57? \n"
     ]
    }
   ],
   "source": [
    "from random import random\n",
    "n = random()\n",
    "print(f\"nilai acak :{n} \")\n",
    "\n",
    "from random import randint\n",
    "inilai = randint(0,100)\n",
    "print(f\"nilai acak 1-100 :{inilai}\")\n",
    "\n",
    "from random import choice\n",
    "month =(\"jan\",\"feb\",\"mar\",\"apr\")\n",
    "cmonth =choice(month)\n",
    "print(f\"sekarang bulan:{cmonth}\")\n",
    "\n",
    "n1 = randint(0,100)\n",
    "n2 = randint(0,100)\n",
    "print(f\"berapa hasil {n1} + {n2}? \")\n",
    "answer =int(input(\"isikan jawaban anda\"))\n",
    "check = \"anda benar\" if n1 + n2 == answer else \"anda salah\"\n",
    "print(check)"
   ]
  },
  {
   "cell_type": "code",
   "execution_count": null,
   "id": "d7e34084",
   "metadata": {},
   "outputs": [],
   "source": [
    "from random import randint, choice\n",
    "\n",
    "\n",
    "kamus = {\n",
    "    'apple': 'apel',\n",
    "    'banana': 'pisang',\n",
    "    'orange': 'jeruk',\n",
    "    'grape': 'anggur',\n",
    "    'mango': 'mangga'\n",
    "}\n",
    "\n",
    "def pilih_entri_acak(kamus):\n",
    "    kunci_acak = choice(list(kamus.keys()))\n",
    "    terjemahan = kamus[kunci_acak]\n",
    "    return kunci_acak, terjemahan\n",
    "\n",
    "def tambah_entri_acak(kamus):\n",
    "    kata_baru = f'word{randint(1, 100)}'\n",
    "    terjemahan_baru = f'terjemahan untuk {kata_baru}'\n",
    "    kamus[kata_baru] = terjemahan_baru\n",
    "    return kamus\n",
    "\n",
    "def tebak_terjemahan(kamus):\n",
    "    kata_inggris, terjemahan = pilih_entri_acak(kamus)\n",
    "    print(f'Kata dalam bahasa Inggris: {kata_inggris}')\n",
    "    jawaban = input(f'Apa terjemahan dari kata ini dalam bahasa Indonesia? ')\n",
    "    \n",
    "    if jawaban.lower() == terjemahan.lower():\n",
    "        print(\"Jawaban Anda benar!\")\n",
    "    else:\n",
    "        print(f\"Jawaban Anda salah. Terjemahan yang benar adalah: {terjemahan}\")\n",
    "\n",
    "\n",
    "kamus = tambah_entri_acak(kamus)\n",
    "\n",
    "print(\"\\nKamus setelah entri baru ditambahkan:\")\n",
    "for kata, terjemahan in kamus.items():\n",
    "    print(f'{kata}: {terjemahan}')\n",
    "\n",
    "\n",
    "tebak_terjemahan(kamus)\n"
   ]
  },
  {
   "cell_type": "code",
   "execution_count": null,
   "id": "2b0c5027",
   "metadata": {},
   "outputs": [],
   "source": []
  }
 ],
 "metadata": {
  "kernelspec": {
   "display_name": "Python 3 (ipykernel)",
   "language": "python",
   "name": "python3"
  },
  "language_info": {
   "codemirror_mode": {
    "name": "ipython",
    "version": 3
   },
   "file_extension": ".py",
   "mimetype": "text/x-python",
   "name": "python",
   "nbconvert_exporter": "python",
   "pygments_lexer": "ipython3",
   "version": "3.9.12"
  }
 },
 "nbformat": 4,
 "nbformat_minor": 5
}
