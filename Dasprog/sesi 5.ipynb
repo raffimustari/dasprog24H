{
 "cells": [
  {
   "cell_type": "code",
   "execution_count": 1,
   "id": "98a4fdb7-873b-48b0-b801-c15e7077cf18",
   "metadata": {},
   "outputs": [
    {
     "name": "stdin",
     "output_type": "stream",
     "text": [
      "Masukkan Nama:  raffi\n",
      "Masukkan Umur:  12\n",
      "Masukkan Alamat:  baros\n",
      "Masukkan Pekerjaan:  mangaka\n"
     ]
    },
    {
     "name": "stdout",
     "output_type": "stream",
     "text": [
      "\n",
      "Biodata:\n",
      "Nama: raffi\n",
      "Umur: 12\n",
      "Alamat: baros\n",
      "Pekerjaan: mangaka\n"
     ]
    }
   ],
   "source": [
    "# Input data biodata\n",
    "nama = input(\"Masukkan Nama: \")\n",
    "umur = input(\"Masukkan Umur: \")\n",
    "alamat = input(\"Masukkan Alamat: \")\n",
    "pekerjaan = input(\"Masukkan Pekerjaan: \")\n",
    "\n",
    "# Menampilkan biodata menggunakan format\n",
    "print(\"\\nBiodata:\")\n",
    "print(\"Nama: {}\".format(nama))\n",
    "print(\"Umur: {}\".format(umur))\n",
    "print(\"Alamat: {}\".format(alamat))\n",
    "print(\"Pekerjaan: {}\".format(pekerjaan))\n"
   ]
  },
  {
   "cell_type": "code",
   "execution_count": 11,
   "id": "fe0e3297-311c-4fd5-8c6a-fc6c26f51dd3",
   "metadata": {},
   "outputs": [
    {
     "name": "stdout",
     "output_type": "stream",
     "text": [
      "a. putra sukabumi\n",
      "b. NIVERSITAS NSA PTRA SKABMI\n",
      "c. PUTRA SUKABUMI UNIVERSITAS NUSA\n",
      "d. UNPS\n",
      "e. IVERSITAS NUS TRA\n"
     ]
    }
   ],
   "source": [
    "kalimat = \"UNIVERSITAS NUSA PUTRA SUKABUMI\"\n",
    "\n",
    "a = ' '.join(kalimat.split()[2:4])\n",
    "print(\"a.\", a.lower())\n",
    "\n",
    "b = kalimat.replace(\"UNIVERSITAS\", \"NIVERSITAS\").replace(\"NUSA\", \"NSA\").replace(\"PUTRA\", \"PTRA\").replace(\"SUKABUMI\", \"SKABMI\")\n",
    "print(\"b.\", b)\n",
    "\n",
    "c = ' '.join(kalimat.split()[4:] + kalimat.split()[2:4] + kalimat.split()[:2])\n",
    "print(\"c.\", c)\n",
    "\n",
    "d = \"\".join(word[0] for word in kalimat.split())\n",
    "print(\"d.\", d)\n",
    "\n",
    "e = ' '.join([kalimat.split()[0][2:], kalimat.split()[1][:3], kalimat.split()[2][2:]])\n",
    "print(\"e.\", e)\n"
   ]
  },
  {
   "cell_type": "code",
   "execution_count": null,
   "id": "4d20fb37-281f-4f56-b6eb-1b457fc851fa",
   "metadata": {},
   "outputs": [],
   "source": []
  }
 ],
 "metadata": {
  "kernelspec": {
   "display_name": "Python [conda env:base] *",
   "language": "python",
   "name": "conda-base-py"
  },
  "language_info": {
   "codemirror_mode": {
    "name": "ipython",
    "version": 3
   },
   "file_extension": ".py",
   "mimetype": "text/x-python",
   "name": "python",
   "nbconvert_exporter": "python",
   "pygments_lexer": "ipython3",
   "version": "3.12.7"
  }
 },
 "nbformat": 4,
 "nbformat_minor": 5
}
