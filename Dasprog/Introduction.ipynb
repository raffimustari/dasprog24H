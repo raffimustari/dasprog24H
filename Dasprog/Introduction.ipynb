{
 "cells": [
  {
   "cell_type": "markdown",
   "id": "5647b7db",
   "metadata": {},
   "source": [
    "# my bini\n",
    "\n",
    "<img src=\"https://i.pinimg.com/736x/06/5a/e2/065ae25c32ff8ca5fd02ac15d104a949.jpg\" width=\"300\"></center><br>punya <b>istri sah Raffi Mustari<b>\n",
    "<a href=\"https://kemenag.go.id/islam/cara-mandi-junub-lengkap-dengan-niat-dan-sunahnya-1UIN6\">\n",
    "  <button type=\"button\">Iyah</button>\n",
    "</a>\n",
    "    <a>\n",
    "  <button type=\"button\"  disabled>bukan</button>\n",
    "</a>\n",
    "    <hr>"
   ]
  },
  {
   "cell_type": "markdown",
   "id": "28847d28",
   "metadata": {},
   "source": [
    "Cara menambahkan <b>cell</b> terbagi menjadi 2:\n",
    "  <ul>\n",
    "    <li><strong>A -(above) menambah di atas cell</strong></li>\n",
    "    <li><i>B -(below) menambah di bawah cell</i></li>\n",
    "  </ul>\n",
    "  \n",
    "  <table>\n",
    "    <tr>\n",
    "        <td>perintah</td>\n",
    "         <td>keterangan</td>\n",
    "    </tr>\n",
    "     <tr>\n",
    "        <td>ctrl + enter</td>\n",
    "         <td>run</td>\n",
    "    </tr>\n",
    "     <tr>\n",
    "        <td>shift + enter</td>\n",
    "         <td>run progam deangan fokus di cell berikut</td>\n",
    "    </tr>\n",
    "    </table>"
   ]
  },
  {
   "cell_type": "markdown",
   "id": "78d07115",
   "metadata": {},
   "source": [
    "#coment\n",
    "\n",
    "print(\"piton gampang\")\n",
    "data = \"4\"\n",
    "print(data)\n",
    "data"
   ]
  },
  {
   "cell_type": "code",
   "execution_count": null,
   "id": "60b3c7f2",
   "metadata": {},
   "outputs": [],
   "source": []
  }
 ],
 "metadata": {
  "kernelspec": {
   "display_name": "Python 3 (ipykernel)",
   "language": "python",
   "name": "python3"
  },
  "language_info": {
   "codemirror_mode": {
    "name": "ipython",
    "version": 3
   },
   "file_extension": ".py",
   "mimetype": "text/x-python",
   "name": "python",
   "nbconvert_exporter": "python",
   "pygments_lexer": "ipython3",
   "version": "3.9.12"
  }
 },
 "nbformat": 4,
 "nbformat_minor": 5
}
