{
 "cells": [
  {
   "cell_type": "code",
   "execution_count": 2,
   "id": "7818bbde",
   "metadata": {},
   "outputs": [
    {
     "name": "stdout",
     "output_type": "stream",
     "text": [
      "Nama : raffi\n",
      "alamat : atlantis\n",
      "umur : 9\n",
      "nilai : 99.9\n",
      "status : True\n"
     ]
    }
   ],
   "source": [
    "a = \"raffi\"\n",
    "b = \"atlantis\"\n",
    "c = 9\n",
    "d = 99.9\n",
    "e = True\n",
    "\n",
    "print(\"Nama :\",a)\n",
    "print(\"alamat :\",b)\n",
    "print(\"umur :\",c)\n",
    "print(\"nilai :\",d)\n",
    "print(\"status :\",e)\n",
    "\n",
    "\n"
   ]
  },
  {
   "cell_type": "code",
   "execution_count": 5,
   "id": "5b22576e",
   "metadata": {},
   "outputs": [
    {
     "name": "stdout",
     "output_type": "stream",
     "text": [
      "tipedata <a> : <class 'str'>\n",
      "tipedata <b> : <class 'str'>\n",
      "tipedata <c> : <class 'int'>\n",
      "tipedata <d> : <class 'float'>\n",
      "tipedata <e> : <class 'bool'>\n"
     ]
    }
   ],
   "source": [
    "print(\"tipedata <a> :\",type(a))\n",
    "print(\"tipedata <b> :\",type(b))\n",
    "print(\"tipedata <c> :\",type(c))\n",
    "print(\"tipedata <d> :\",type(d))\n",
    "print(\"tipedata <e> :\",type(e))\n",
    "\n"
   ]
  },
  {
   "cell_type": "markdown",
   "id": "04834cb7",
   "metadata": {},
   "source": [
    "strToInt = int(a)\n",
    "strToFloat = float(a)\n",
    "strToBool = bool(a)\n",
    "print(strtoInt + 2,strtoFloat, strtoBool, sep=\"_\" )"
   ]
  },
  {
   "cell_type": "markdown",
   "id": "a5c384b0",
   "metadata": {},
   "source": [
    "d = 500\n",
    "b = 0b1010 \n",
    "o = 0o377 \n",
    "h = 0x77\n",
    "\n",
    "print(\"nilai Desimal\",d)\n",
    "print(\"nilai Biner\",b)\n",
    "print(\"nilai Octal\",o)\n",
    "print(\"nilai Hexa\",h)\n",
    "\n",
    "print(\"nilai biner dari\",d,\";\"bin(d))\n",
    "print(\"nilai biner dari\",d,\";\"oct(d))\n",
    "print(\"nilai biner dari\",d,\";\"hex(d))"
   ]
  },
  {
   "cell_type": "markdown",
   "id": "77441cbc",
   "metadata": {},
   "source": [
    "\n"
   ]
  },
  {
   "cell_type": "code",
   "execution_count": 10,
   "id": "3057e8a9",
   "metadata": {},
   "outputs": [
    {
     "name": "stdout",
     "output_type": "stream",
     "text": [
      "g\n",
      "6\n",
      "m\n"
     ]
    }
   ],
   "source": [
    "c = \"gotham\"\n",
    "length =len(c)\n",
    "print(c[0])\n",
    "print(length)\n",
    "print(c[length-1])"
   ]
  },
  {
   "cell_type": "code",
   "execution_count": 32,
   "id": "834420bd",
   "metadata": {},
   "outputs": [
    {
     "name": "stdout",
     "output_type": "stream",
     "text": [
      "['sukabumi', 'sukabayu', 'sukaraja', 'sukajanda']\n",
      "sukabumi\n",
      "sukajanda\n",
      "s\n",
      "a\n",
      "['bali', 'sukabayu', 'sukaraja', 'sukajanda']\n",
      "('raffa', 'raffi', 'yuda')\n",
      "yuda\n",
      "[{'n1': 'raffi', 'u1': 9, 'a1': {'jalan': 'jl kalimaya2', 'no': 129, 'pro': 'jabar'}, 'Hobby': ['penyuka wanita', 'penjilat politik'], 'Married': True}, {'n1': 'yuda', 'u1': 45, 'a1': {'jalan': 'jl kebenaran', 'no': 129, 'pro': 'jabar'}, 'Hobby': ['penyuka wanita', 'gooning'], 'Married': True}]\n",
      "penyuka wanita\n"
     ]
    }
   ],
   "source": [
    "c =[\"sukabumi\",\"sukabayu\",\"sukaraja\",\"sukajanda\"]\n",
    "l = len(c)\n",
    "print(c)\n",
    "print(c[0])\n",
    "print(c[l-1])\n",
    "print(c[l-1] [0])\n",
    "print(c[l-1] [len(c[l-1])-1])\n",
    "c[0]=\"bali\"\n",
    "print(c)\n",
    "\n",
    "n = (\"raffa\", \"raffi\", \"yuda\")\n",
    "print(n)\n",
    "print(n[-1])\n",
    "\n",
    "sd = [\n",
    "    {\n",
    "    \"n1\" :\"raffi\",\n",
    "    \"u1\" : 9,\n",
    "    \"a1\" : {\n",
    "        \"jalan\" : \"jl kalimaya2\",\n",
    "        \"no\" : 129,\n",
    "        \"pro\" :\"jabar\"\n",
    "    },\n",
    "    \"Hobby\" : [\"penyuka wanita\",\"penjilat politik\"],\n",
    "    \"Married\" : True,\n",
    "},\n",
    " {\n",
    "        \"n1\": \"yuda\",\n",
    "        \"u1\": 45,\n",
    "        \"a1\": {\n",
    "            \"jalan\": \"jl kebenaran\",\n",
    "            \"no\": 129,\n",
    "            \"pro\": \"jabar\"\n",
    "        },\n",
    "        \"Hobby\": [\"penyuka wanita\", \"gooning\"],\n",
    "        \"Married\": True,\n",
    "    }\n",
    "]\n",
    "\n",
    "\n",
    "print(sd)\n",
    "print(sd[0][\"Hobby\"][0])\n"
   ]
  },
  {
   "cell_type": "code",
   "execution_count": 33,
   "id": "dde6feb1",
   "metadata": {},
   "outputs": [
    {
     "name": "stdout",
     "output_type": "stream",
     "text": [
      "{'name': 'raffi', 'age': '17', 'status': True}\n",
      "{'name': 'Yuda', 'age': '19', 'status': False}\n",
      "{'name': 'raffa', 'age': '19', 'status': False}\n"
     ]
    }
   ],
   "source": [
    "list1 = [[\"name\",\"raffi\"],[\"age\",\"17\"],[\"status\",True]]\n",
    "dls = dict(list1)\n",
    "print(dls)\n",
    "\n",
    "lt = [(\"name\",\"Yuda\"),(\"age\",\"19\"),(\"status\",False)]\n",
    "dts = dict(lt)\n",
    "print(dts)\n",
    "\n",
    "tl =([\"name\",\"raffa\"],[\"age\",\"19\"],[\"status\",False])\n",
    "dtls = dict(tl)\n",
    "print(dtls)"
   ]
  },
  {
   "cell_type": "code",
   "execution_count": null,
   "id": "27eaeca2",
   "metadata": {},
   "outputs": [],
   "source": []
  },
  {
   "cell_type": "code",
   "execution_count": null,
   "id": "ed3c5159",
   "metadata": {},
   "outputs": [],
   "source": []
  }
 ],
 "metadata": {
  "kernelspec": {
   "display_name": "Python 3 (ipykernel)",
   "language": "python",
   "name": "python3"
  },
  "language_info": {
   "codemirror_mode": {
    "name": "ipython",
    "version": 3
   },
   "file_extension": ".py",
   "mimetype": "text/x-python",
   "name": "python",
   "nbconvert_exporter": "python",
   "pygments_lexer": "ipython3",
   "version": "3.9.12"
  }
 },
 "nbformat": 4,
 "nbformat_minor": 5
}
